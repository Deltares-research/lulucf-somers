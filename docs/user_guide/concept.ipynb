{
 "cells": [
  {
   "cell_type": "markdown",
   "id": "1b5bf831",
   "metadata": {},
   "source": [
    "# Lusos concept\n",
    "\n",
    "This notebook explains the general concept how `lusos` works. Under the hood, lusos utilizes the [mapbox-earcut](https://pypi.org/project/mapbox-earcut/) library and [Xugrid](https://deltares.github.io/xugrid/index.html) unstructured grids to derive coverages of polygon geometries in a GeoDataFrame within raster cells of a grid. This is done in three steps:\n",
    "\n",
    "1. Translate the polygon geometries to triangles, using `mapbox_earcut`, to create an unstructured grid (ugrid) from the geometries.\n",
    "2. Compute the overlap between every triangle in the ugrid and each raster cell from a target grid using [xugrid.OverlapRegridder](https://deltares.github.io/xugrid/api/xugrid.OverlapRegridder.html#xugrid.OverlapRegridder).\n",
    "3. Store the computed overlaps back in the same rectangular space as the target grid.\n",
    "\n",
    "Normally, lusos does all this under the hood but for the explanation of the concept we are going to untangle these steps to show how it works. We begin with the necessary imports."
   ]
  },
  {
   "cell_type": "code",
   "execution_count": null,
   "id": "89edc6a2",
   "metadata": {},
   "outputs": [],
   "source": [
    "import geopandas as gpd\n",
    "import numpy as np\n",
    "import xugrid as xu\n",
    "from matplotlib import pyplot as plt\n",
    "from shapely.geometry import box\n",
    "\n",
    "import lusos\n",
    "from lusos.area_statistics import area_to_grid3d"
   ]
  },
  {
   "cell_type": "markdown",
   "id": "164585c1",
   "metadata": {},
   "source": [
    "In this example we will use some random polygons created in the space between (0, 0) and (1, 1). First, we need to define two helper functions: (1) to create a [GeoDataFrame](https://geopandas.org/en/stable/docs/reference/api/geopandas.GeoDataFrame.html) containing some random polygons with a \"nr\" identifying its category and, (2) to be able to visualize the outer edges of raster cells in a grid."
   ]
  },
  {
   "cell_type": "code",
   "execution_count": null,
   "id": "28085720",
   "metadata": {},
   "outputs": [],
   "source": [
    "def random_polygons(n, seed=None):\n",
    "    random = np.random.RandomState(seed)\n",
    "    polygons = gpd.GeoDataFrame(\n",
    "        {\"nr\": random.randint(0, 3, n)},\n",
    "        geometry=gpd.points_from_xy(random.rand(n), random.rand(n)),\n",
    "        crs=28992\n",
    "    )\n",
    "    polygons['geometry'] = polygons['geometry'].voronoi_polygons()\n",
    "    polygons = polygons.clip((0, 0, 1, 1))\n",
    "    return polygons.reset_index(drop=True)\n",
    "\n",
    "\n",
    "def grid_to_cells(grid, xres, yres):\n",
    "    cells = []\n",
    "    for x in grid['x'].values:\n",
    "        for y in grid['y'].values:\n",
    "            xmin = x - xres / 2\n",
    "            xmax = x + xres / 2\n",
    "            ymin = y - yres / 2\n",
    "            ymax = y + yres / 2\n",
    "            poly = box(xmin, ymin, xmax, ymax)\n",
    "            cells.append(poly)\n",
    "    return gpd.GeoDataFrame(geometry=cells, crs=28992)"
   ]
  },
  {
   "cell_type": "markdown",
   "id": "a946b9a5",
   "metadata": {},
   "source": [
    "Let's now create the polygons and grid with the extent between 0, 0, 1, 1 (xmin, ymin, xmax, ymax). For the grid we will use a cell size of 0.2 which results in a 5x5 grid (rows, columns). Let's check out the created polygons and visualize what the polygons and grid look like."
   ]
  },
  {
   "cell_type": "code",
   "execution_count": null,
   "id": "abaa51c8",
   "metadata": {},
   "outputs": [],
   "source": [
    "polygons = random_polygons(10, seed=7) # Use seed for reproducibility\n",
    "print(polygons)\n",
    "\n",
    "grid = lusos.LassoGrid(0, 0, 1, 1, 0.2, 0.2) # 5x5 grid between (0,0) and (1,1)\n",
    "cells = grid_to_cells(grid.dataarray(), 0.2, 0.2)\n",
    "\n",
    "fig, ax = plt.subplots()\n",
    "polygons.plot(\n",
    "    ax=ax,\n",
    "    column='nr',\n",
    "    edgecolor='grey',\n",
    "    cmap='Set1',\n",
    "    legend=True,\n",
    "    categorical=True,\n",
    "    legend_kwds={'bbox_to_anchor': (1.2, 0.95), 'loc': 'upper right'}\n",
    ")\n",
    "cells.plot(ax=ax, edgecolor='black', facecolor='none', linestyle='--')"
   ]
  },
  {
   "cell_type": "markdown",
   "id": "3d8e5ccd",
   "metadata": {},
   "source": [
    "The created GeoDataFrame contains 10 polygons belonging to one of three categories: 0, 1 or 2. Lusos calculates for each cell in a grid, in this case the 5x5 grid, the percentage of the cell that is covered by each category. The result will therefore be a 3D grid with the category as an extra dimension (lusos calls this dimension \"layer\"). The resulting grid will therefore be a 5x5x3 (\"y\", \"x\", \"layer\") grid with the percentage of each \"layer\" at every \"y\", \"x\" coordinate.\n",
    "\n",
    "The first step of the calculation is the triangulation of the input polygons. Let's create the triangulation and unstructured grid and show what the result of the triangulation looks like."
   ]
  },
  {
   "cell_type": "code",
   "execution_count": null,
   "id": "62e13e24",
   "metadata": {},
   "outputs": [],
   "source": [
    "triangles, index, coords = lusos.ops.triangulate(polygons)\n",
    "ugrid = xu.Ugrid2d(*coords.T, -1, triangles.astype(\"int32\"))\n",
    "\n",
    "fig, ax = plt.subplots()\n",
    "polygons.plot(ax=ax, edgecolor='grey', facecolor='none', zorder=5) # plot outlines of polygons\n",
    "ugrid.plot(ax=ax, color=\"w\", linewidth=0.5, zorder=2)\n",
    "polygons.plot(\n",
    "    ax=ax,\n",
    "    column='nr',\n",
    "    cmap='Set1',\n",
    "    legend=True,\n",
    "    categorical=True,\n",
    "    legend_kwds={'bbox_to_anchor': (1.2, 0.95), 'loc': 'upper right'}\n",
    ")"
   ]
  },
  {
   "cell_type": "markdown",
   "id": "fbe2bc7e",
   "metadata": {},
   "source": [
    "Now that we have a basic understanding of the triangulation, we can calculate the overlapping areas of each polygon in each grid cell. The result is a namedtuple `PolygonGridArea` containing four different fields: `cell_idx`, `nitems`, `polygon` and `area`.\n",
    "\n",
    "- `cell_idx` is a flat array with ordered indices of cells that have nonzero values (i.e. cell overlaps a polygon)\n",
    "- `nitems` is a flat array that contains the number of polygons that overlap with each polygon\n",
    "- `polygon` is the original row index in the GeoDataFrame of the polygon that overlaps with a cell\n",
    "- `area` is the corresponding area."
   ]
  },
  {
   "cell_type": "code",
   "execution_count": null,
   "id": "de43f948",
   "metadata": {},
   "outputs": [],
   "source": [
    "area = lusos.ops.polygon_area_in_grid(polygons, grid.dataarray())\n",
    "print(area)"
   ]
  },
  {
   "cell_type": "markdown",
   "id": "385e2f54",
   "metadata": {},
   "source": [
    "If we look below at the shapes of each array, we can see how the arrays relate to eachother. Note that cell_idx and nitems have the same shape and polygon and area. Looping over nitems we know how many elements we have to mask in polygon and area to get the result for a cell. By using the cell_idx we can than place the results at the correct location in a grid."
   ]
  },
  {
   "cell_type": "code",
   "execution_count": null,
   "id": "019d727a",
   "metadata": {},
   "outputs": [],
   "source": [
    "print(area.cell_idx.shape, area.nitems.shape, area.polygon.shape, area.area.shape)"
   ]
  },
  {
   "cell_type": "markdown",
   "id": "16401144",
   "metadata": {},
   "source": [
    "Remember that the values in `polygon` are the original row indices in the `polygons` GeoDataFrame so we can easily replace these indices with the \"nr\" of each polygon:"
   ]
  },
  {
   "cell_type": "code",
   "execution_count": null,
   "id": "47a9a959",
   "metadata": {},
   "outputs": [],
   "source": [
    "area.polygon[:] = polygons[\"nr\"].values[area.polygon]\n",
    "print(area)"
   ]
  },
  {
   "cell_type": "markdown",
   "id": "90bc67c2",
   "metadata": {},
   "source": [
    "Now we can translate the results back into a grid. Numpy arrays are row-major so we can derive the row and column index by using the number of columns of the 2D grid and the cell_idx and place the results at the correct location in a grid.\n",
    "\n",
    "`row_idx, col_idx = np.divmod(cell_idx, ncols)`\n",
    "\n",
    "As an example, we will show for the first two iterations how the arrays are related."
   ]
  },
  {
   "cell_type": "code",
   "execution_count": null,
   "id": "1a0b98e0",
   "metadata": {},
   "outputs": [],
   "source": [
    "ncols_grid = 5  # Remember our grid is 5x5\n",
    "\n",
    "min_idx = 0 # Mask always starts at 0\n",
    "for i in range(2):\n",
    "    row_idx, col_idx = np.divmod(area.cell_idx[i], ncols_grid)\n",
    "    nitems = area.nitems[i]\n",
    "    max_idx = min_idx + nitems\n",
    "\n",
    "    p = area.polygon[min_idx:max_idx]\n",
    "    a = area.area[min_idx:max_idx]\n",
    "\n",
    "    print(f\"{i=}: {row_idx=}, {col_idx=}, {nitems=}, {p=}, {a=}\")\n",
    "    min_idx += nitems"
   ]
  },
  {
   "cell_type": "markdown",
   "id": "41c9b165",
   "metadata": {},
   "source": [
    "Now we can translate the namedtuple to a grid. The output will be a 3D grid (\"y\", \"x\", \"layer\") with for each cell, the percentage that is covered by each type of polygon."
   ]
  },
  {
   "cell_type": "code",
   "execution_count": null,
   "id": "7d88819c",
   "metadata": {},
   "outputs": [],
   "source": [
    "units = polygons['nr'].unique()\n",
    "\n",
    "cell_area = 0.2 * 0.2\n",
    "\n",
    "area_grid = grid.empty_array(np.sort(units), dask=False)\n",
    "area_grid.values = area_to_grid3d(area, area_grid.values)\n",
    "area_grid = area_grid / cell_area\n",
    "area_grid"
   ]
  },
  {
   "cell_type": "markdown",
   "id": "948baaa6",
   "metadata": {},
   "source": [
    "Let's show the polygons again and for instance check the result of the center cell. This cell is covered by four different polygons with two unique \"nrs\": 0 and 1. We can see, approximately 12% of the cell is covered by nr 0 and approximately 88% is covered by nr 1 which is in agreement with the image."
   ]
  },
  {
   "cell_type": "code",
   "execution_count": null,
   "id": "ae628e21",
   "metadata": {},
   "outputs": [],
   "source": [
    "fig, ax = plt.subplots()\n",
    "polygons.plot(\n",
    "    ax=ax,\n",
    "    column='nr',\n",
    "    edgecolor='grey',\n",
    "    cmap='Set1',\n",
    "    legend=True,\n",
    "    categorical=True,\n",
    "    legend_kwds={'bbox_to_anchor': (1.2, 0.95), 'loc': 'upper right'}\n",
    ")\n",
    "cells.plot(ax=ax, edgecolor='black', facecolor='none', linestyle='--')\n",
    "print(area_grid.sel(x=0.5, y=0.5, method='nearest'))"
   ]
  }
 ],
 "metadata": {
  "kernelspec": {
   "display_name": "default",
   "language": "python",
   "name": "python3"
  },
  "language_info": {
   "codemirror_mode": {
    "name": "ipython",
    "version": 3
   },
   "file_extension": ".py",
   "mimetype": "text/x-python",
   "name": "python",
   "nbconvert_exporter": "python",
   "pygments_lexer": "ipython3",
   "version": "3.13.3"
  }
 },
 "nbformat": 4,
 "nbformat_minor": 5
}
